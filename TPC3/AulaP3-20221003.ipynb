{
 "cells": [
  {
   "cell_type": "markdown",
   "id": "1e545158",
   "metadata": {},
   "source": [
    "# Aula Prática 3 (guião)\n",
    "### Semana de 3 a 7 de Outubro de 2022\n",
    "### José Carlos Ramalho e Luís Cunha\n",
    "### Sinopsis:\n",
    "Algoritmos sobre listas."
   ]
  },
  {
   "cell_type": "markdown",
   "id": "e38d18c4-d7d7-4fea-9bc6-e3f3c903386b",
   "metadata": {},
   "source": [
    "### Exercício 1: Criar uma lista \n",
    "- Defina uma função que recebe um argumento **N** e devolve uma  lista com os números pares até **N**;\n",
    "- Crie um programa que chama a função e imprime a lista resultante."
   ]
  },
  {
   "cell_type": "code",
   "execution_count": 4,
   "id": "af973146-3bb4-4fa8-ba6c-b887b79ccff8",
   "metadata": {},
   "outputs": [
    {
     "name": "stdout",
     "output_type": "stream",
     "text": [
      "[0, 2, 4, 6, 8, 10]\n",
      "os numeros pares de N sao [0, 2]\n"
     ]
    }
   ],
   "source": [
    "# Solução do exercício 1\n",
    "def criaLista(N):\n",
    "    lista = []\n",
    "    i = 0\n",
    "    while (i <= N):\n",
    "        if (i % 2 == 0):\n",
    "            lista.append(i)\n",
    "        i=i+1\n",
    "    return lista\n",
    "\n",
    "N = int(input(\"insira um numero\"))\n",
    "print(criaLista(N))\n",
    "\n",
    "listaB = [1, 2, 3, 4]\n",
    "print(\"os numeros pares de N sao\", criaLista(listaB[2]))\n",
    "\n"
   ]
  },
  {
   "cell_type": "markdown",
   "id": "bdcbffb0",
   "metadata": {},
   "source": [
    "### Exercício 2: Ler uma lista de N números\n",
    "- Defina uma função que recebe um argumento **N** e lê **N** números armazenando-os numa lista que é devolvida como resultado;\n",
    "- Crie um programa que chama a função e imprime a lista resultante."
   ]
  },
  {
   "cell_type": "code",
   "execution_count": 5,
   "id": "af973146-3bb4-4fa8-ba6c-b887b79ccff8",
   "metadata": {},
   "outputs": [
    {
     "data": {
      "text/plain": [
       "[4, 5, 6]"
      ]
     },
     "execution_count": 5,
     "metadata": {},
     "output_type": "execute_result"
    }
   ],
   "source": [
    "# Solução do exercício 2\n",
    "def leLista(N):\n",
    "    lista = []\n",
    "    i = 0\n",
    "    while (i<N):\n",
    "        x = int(input(\"insira um numero\"))\n",
    "        lista.append(x)\n",
    "        i = i + 1\n",
    "    return lista\n",
    "\n",
    "x = int(input(\"insira um valor para N\"))\n",
    "leLista(x)"
   ]
  },
  {
   "cell_type": "markdown",
   "id": "bdcbffb0",
   "metadata": {},
   "source": [
    "### Exercício 3: Somar uma lista de números\n",
    "- Defina uma função que recebe uma lista como argumento e devolve a soma dos números nessa lista."
   ]
  },
  {
   "cell_type": "code",
   "execution_count": 7,
   "id": "64ad6f7b",
   "metadata": {},
   "outputs": [
    {
     "data": {
      "text/plain": [
       "10"
      ]
     },
     "execution_count": 7,
     "metadata": {},
     "output_type": "execute_result"
    }
   ],
   "source": [
    "# Solução do exercício 3\n",
    "def somaLista(lista):\n",
    "    soma = 0\n",
    "    for i in lista:\n",
    "        soma = soma + i\n",
    "    return soma\n",
    "somaLista((1, 2, 3, 4))"
   ]
  },
  {
   "cell_type": "code",
   "execution_count": 8,
   "id": "dfa05c65",
   "metadata": {},
   "outputs": [
    {
     "name": "stdout",
     "output_type": "stream",
     "text": [
      "[1, 2, 3, 4, 5]\n",
      "15\n"
     ]
    }
   ],
   "source": [
    "# Solução do exercício 3\n",
    "def somaLista(lista):\n",
    "    soma = 0\n",
    "    for i in lista:\n",
    "        soma = soma + i\n",
    "    return soma\n",
    "listaB = leLista(5)\n",
    "print(listaB)\n",
    "x = somaLista(listaB)\n",
    "print(x)\n"
   ]
  },
  {
   "cell_type": "code",
   "execution_count": 10,
   "id": "69342e71",
   "metadata": {},
   "outputs": [
    {
     "name": "stdout",
     "output_type": "stream",
     "text": [
      "15\n"
     ]
    }
   ],
   "source": [
    "# Solução do exercício 3\n",
    "def somaLista(lista):\n",
    "    soma = 0\n",
    "    for i in lista:\n",
    "        soma = soma + i\n",
    "    return soma\n",
    "N = int(input(\"insira um numero N\"))\n",
    "print(somaLista(leLista(N)))"
   ]
  },
  {
   "cell_type": "markdown",
   "id": "bdcbffb0",
   "metadata": {},
   "source": [
    "### Exercício 4: Calcular a média duma lista de números\n",
    "- Defina uma função que recebe uma lista como argumento e devolve a média dos números nessa lista."
   ]
  },
  {
   "cell_type": "code",
   "execution_count": 12,
   "id": "a6c32b2e",
   "metadata": {},
   "outputs": [
    {
     "name": "stdout",
     "output_type": "stream",
     "text": [
      "2.5\n"
     ]
    }
   ],
   "source": [
    "# Solução do exercício 4\n",
    "def mediaLista(lista):\n",
    "    soma = 0\n",
    "    for i in lista:\n",
    "        soma = soma + i\n",
    "    return soma\n",
    "listaC = [1, 2, 3, 4]\n",
    "N = len(listaC)\n",
    "media = mediaLista([1, 2, 3, 4]) / N\n",
    "print(media)\n",
    "\n",
    "\n",
    "\n"
   ]
  },
  {
   "cell_type": "code",
   "execution_count": 13,
   "metadata": {},
   "outputs": [
    {
     "name": "stdout",
     "output_type": "stream",
     "text": [
      "2.5\n"
     ]
    }
   ],
   "source": [
    "# Solução do exercício 4\n",
    "def mediaLista(lista):\n",
    "    soma = 0\n",
    "    for i in lista:\n",
    "        soma = soma + i\n",
    "    return soma / len(lista)\n",
    "lista = [1, 2, 3, 4]\n",
    "print(mediaLista(lista))"
   ]
  },
  {
   "cell_type": "markdown",
   "id": "f41ef69b",
   "metadata": {},
   "source": [
    "### Exercício 5: Maior de uma sequência\n",
    "- Defina uma função que recebe uma lista como argumento e devolve o maior número nessa lista."
   ]
  },
  {
   "cell_type": "code",
   "execution_count": 16,
   "id": "86f5b24d",
   "metadata": {},
   "outputs": [
    {
     "name": "stdout",
     "output_type": "stream",
     "text": [
      "5\n"
     ]
    }
   ],
   "source": [
    "# Solução do exercício 5\n",
    "def maiorLista(lista):\n",
    "    max = lista[0]\n",
    "    for i in lista[1:]:\n",
    "        if (i > max):\n",
    "            max = i\n",
    "    \n",
    "    return max\n",
    "lista = [1, 2, 3, 4, 5]\n",
    "print(maiorLista(lista))"
   ]
  },
  {
   "cell_type": "markdown",
   "id": "d11cdd11",
   "metadata": {},
   "source": [
    "### Exercício 6: Menor de uma sequência\n",
    "- Defina uma função que recebe uma lista como argumento e devolve o menor número nessa lista."
   ]
  },
  {
   "cell_type": "code",
   "execution_count": 18,
   "id": "7549c7d7",
   "metadata": {},
   "outputs": [
    {
     "name": "stdout",
     "output_type": "stream",
     "text": [
      "1\n"
     ]
    }
   ],
   "source": [
    "# Solução do exercício 6\n",
    "def menorLista(lista):\n",
    "    min = lista[0]\n",
    "    for i in lista[1:]:\n",
    "        if (i < min):\n",
    "            min = i\n",
    "    \n",
    "    return min\n",
    "lista = [1, 2, 3, 4, 5]\n",
    "print(menorLista(lista))"
   ]
  },
  {
   "cell_type": "markdown",
   "id": "775a02a5",
   "metadata": {},
   "source": [
    "### Exercício 7: Contar strings\n",
    "- Defina uma função que recebe uma lista de strings como argumento e devolve número de strings nessa lista que:\n",
    "    1. Têm tamanho maior ou igual a 2;\n",
    "    2. Começam e terminam pelo mesmo caracter.\n",
    "#### Input (exemplo)\n",
    "in: ['abc', 'xyz', 'aba', '1221']\n",
    "#### Output (exemplo)\n",
    "out: 2"
   ]
  },
  {
   "cell_type": "code",
   "execution_count": 23,
   "id": "7390bc6a",
   "metadata": {},
   "outputs": [
    {
     "name": "stdout",
     "output_type": "stream",
     "text": [
      "2\n"
     ]
    }
   ],
   "source": [
    "# Solução do exercício 7\n",
    "def contarStringsLista(lista):\n",
    "    counter = 0\n",
    "    for i in lista:\n",
    "        if (len(i) >= 2):\n",
    "            if i[-1] == i[0]:\n",
    "             counter = counter + 1\n",
    "\n",
    "    return counter\n",
    "print(contarStringsLista([\"abc\", \"uio\", \"1231\", \"aba\"]))"
   ]
  },
  {
   "cell_type": "markdown",
   "id": "f9ba457b",
   "metadata": {},
   "source": [
    "### Exercício 8: Remover duplicados\n",
    "- Defina uma função que recebe uma lista como argumento e devolve uma nova lista eliminando elementos repetidos."
   ]
  },
  {
   "cell_type": "code",
   "execution_count": 26,
   "id": "0abc61e5",
   "metadata": {},
   "outputs": [
    {
     "name": "stdout",
     "output_type": "stream",
     "text": [
      "[1, 2, 4, 6]\n"
     ]
    }
   ],
   "source": [
    "# Solução do exercício 8\n",
    "\n",
    "def remDupLista(lista):\n",
    "    lista1 = []\n",
    "    for i in lista:\n",
    "        if i not in lista1:\n",
    "            lista1.append(i)\n",
    "    return lista1\n",
    "print(remDupLista([1, 2, 4, 4, 4, 6]))"
   ]
  },
  {
   "cell_type": "markdown",
   "id": "9bc471d8",
   "metadata": {},
   "source": [
    "### Exercício 9: eVazia?\n",
    "- Defina uma função que recebe uma lista como argumento e devolve um resultado booleano verdadeiro se a lista estiver vazia."
   ]
  },
  {
   "cell_type": "code",
   "execution_count": 7,
   "id": "18cf2aff",
   "metadata": {},
   "outputs": [
    {
     "name": "stdout",
     "output_type": "stream",
     "text": [
      "verdadeiro\n",
      "None\n"
     ]
    }
   ],
   "source": [
    "# Solução do exercício 9\n",
    "def eVazia(lista):\n",
    "  if not lista:\n",
    "    print(\"verdadeiro\")\n",
    "  else:\n",
    "    print(\"falso\")\n",
    "    return lista\n",
    "lista = []\n",
    "print(eVazia(lista))"
   ]
  },
  {
   "cell_type": "markdown",
   "id": "72b8fac0",
   "metadata": {},
   "source": [
    "### Exercício 10: Copiar lista\n",
    "- Defina uma função que recebe uma lista como argumento e devolve uma nova lista correspondente a uma cópia da lista recebida."
   ]
  },
  {
   "cell_type": "code",
   "execution_count": 13,
   "id": "a61ca503",
   "metadata": {},
   "outputs": [
    {
     "name": "stdout",
     "output_type": "stream",
     "text": [
      "[23, 45, 67, 89]\n"
     ]
    },
    {
     "ename": "NameError",
     "evalue": "name 'N' is not defined",
     "output_type": "error",
     "traceback": [
      "\u001b[1;31m---------------------------------------------------------------------------\u001b[0m",
      "\u001b[1;31mNameError\u001b[0m                                 Traceback (most recent call last)",
      "Cell \u001b[1;32mIn [13], line 8\u001b[0m\n\u001b[0;32m      6\u001b[0m lista \u001b[38;5;241m=\u001b[39m [\u001b[38;5;241m23\u001b[39m, \u001b[38;5;241m45\u001b[39m, \u001b[38;5;241m67\u001b[39m, \u001b[38;5;241m89\u001b[39m]\n\u001b[0;32m      7\u001b[0m \u001b[38;5;28mprint\u001b[39m(lista)\n\u001b[1;32m----> 8\u001b[0m \u001b[38;5;28mprint\u001b[39m(copiarLista(N))\n",
      "\u001b[1;31mNameError\u001b[0m: name 'N' is not defined"
     ]
    }
   ],
   "source": [
    "# Solução do exercício 10\n",
    "def copiarLista(lista):\n",
    "    listaA = N\n",
    "    N = lista.copy()\n",
    "    return N\n",
    "lista = [23, 45, 67, 89]\n",
    "print(lista)\n",
    "print(copiarLista(N))"
   ]
  },
  {
   "cell_type": "markdown",
   "id": "d170cc50",
   "metadata": {},
   "source": [
    "### Exercício 11: Strings maiores que n carateres\n",
    "- Defina uma função que recebe dois argumentos, uma lista de strings e um número inteiro, e que devolve uma nova lista de strings em que estas têm um comprimento igual ou superior ao valor inteiro passado como argumento."
   ]
  },
  {
   "cell_type": "code",
   "execution_count": 21,
   "id": "1944ef1d",
   "metadata": {},
   "outputs": [
    {
     "ename": "TypeError",
     "evalue": "stringsMaioresLista() missing 1 required positional argument: 'n'",
     "output_type": "error",
     "traceback": [
      "\u001b[1;31m---------------------------------------------------------------------------\u001b[0m",
      "\u001b[1;31mTypeError\u001b[0m                                 Traceback (most recent call last)",
      "Cell \u001b[1;32mIn [21], line 12\u001b[0m\n\u001b[0;32m     10\u001b[0m lista1 \u001b[38;5;241m=\u001b[39m [\u001b[38;5;241m23\u001b[39m, \u001b[38;5;241m54\u001b[39m, \u001b[38;5;241m67\u001b[39m, \u001b[38;5;241m897\u001b[39m, \u001b[38;5;241m234\u001b[39m, \u001b[38;5;241m243\u001b[39m]\n\u001b[0;32m     11\u001b[0m n \u001b[38;5;241m=\u001b[39m \u001b[38;5;28mint\u001b[39m(\u001b[38;5;28minput\u001b[39m(\u001b[38;5;124m\"\u001b[39m\u001b[38;5;124minsira um numero\u001b[39m\u001b[38;5;124m\"\u001b[39m))\n\u001b[1;32m---> 12\u001b[0m \u001b[38;5;28mprint\u001b[39m(stringsMaioresLista(lista))\n",
      "\u001b[1;31mTypeError\u001b[0m: stringsMaioresLista() missing 1 required positional argument: 'n'"
     ]
    }
   ],
   "source": [
    "# Solução do exercício 11\n",
    "def stringsMaioresLista(lista, n):\n",
    "    lista1 = []\n",
    "    if (len(lista1) >= n):\n",
    "        lista == lista1\n",
    "    else:\n",
    "        t = len(lista1) - n\n",
    "        lista = lista.append(t * 1)\n",
    "    return lista\n",
    "lista1 = [23, 54, 67, 897, 234, 243]\n",
    "n = int(input(\"insira um numero\"))\n",
    "print(stringsMaioresLista(lista))"
   ]
  },
  {
   "cell_type": "markdown",
   "id": "af46fe06",
   "metadata": {},
   "source": [
    "### Exercício 12: Comum?\n",
    "- Defina uma função que recebe duas listas como argumento, e que devolve o valor booleano verdadeiro se as listas tiverem pelo menos um elemento comum."
   ]
  },
  {
   "cell_type": "code",
   "execution_count": 28,
   "id": "7a2f4413",
   "metadata": {},
   "outputs": [
    {
     "ename": "NameError",
     "evalue": "name 'resultado' is not defined",
     "output_type": "error",
     "traceback": [
      "\u001b[1;31m---------------------------------------------------------------------------\u001b[0m",
      "\u001b[1;31mNameError\u001b[0m                                 Traceback (most recent call last)",
      "Cell \u001b[1;32mIn [28], line 8\u001b[0m\n\u001b[0;32m      6\u001b[0m             resultado \u001b[38;5;241m=\u001b[39m \u001b[38;5;28;01mTrue\u001b[39;00m\n\u001b[0;32m      7\u001b[0m     \u001b[38;5;28;01mreturn\u001b[39;00m resultado\n\u001b[1;32m----> 8\u001b[0m \u001b[38;5;28mprint\u001b[39m(haComuns(resultado))\n",
      "\u001b[1;31mNameError\u001b[0m: name 'resultado' is not defined"
     ]
    }
   ],
   "source": [
    "# Solução do exercício 12\n",
    "def haComuns(listaA, listaB):\n",
    "    resultado = False\n",
    "    for i in listaA:\n",
    "        if i in listaB:\n",
    "            resultado = True\n",
    "    return resultado\n",
    "print(haComuns())"
   ]
  },
  {
   "cell_type": "markdown",
   "id": "061bae0e",
   "metadata": {},
   "source": [
    "### Exercício 13: Comuns\n",
    "- Defina uma função que recebe duas listas como argumento, e que devolve uma nova lista com os valores comuns às duas listas."
   ]
  },
  {
   "cell_type": "code",
   "execution_count": null,
   "id": "02db9458",
   "metadata": {},
   "outputs": [],
   "source": [
    "# Solução do exercício 13\n",
    "def comuns(listaA, listaB):\n",
    "    \n",
    "    return"
   ]
  },
  {
   "cell_type": "markdown",
   "id": "af4f2b11",
   "metadata": {},
   "source": [
    "### Exercício 14: Únicos\n",
    "- Defina uma função que recebe duas listas como argumento, e que devolve uma nova lista com os valores que apenas existem numa delas."
   ]
  },
  {
   "cell_type": "code",
   "execution_count": null,
   "id": "01a0d35e",
   "metadata": {},
   "outputs": [],
   "source": [
    "# Solução do exercício 14\n",
    "def unicos(listaA, listaB):\n",
    "    \n",
    "    return"
   ]
  },
  {
   "cell_type": "markdown",
   "id": "2acbab46",
   "metadata": {},
   "source": [
    "### Exercício 15: indiceDe\n",
    "- Defina uma função que recebe uma lista e um elemento como argumento, e que devolve o índice desse elemento na lista. No caso do elemento não existir na lista deverá devolver o valor -1."
   ]
  },
  {
   "cell_type": "code",
   "execution_count": null,
   "id": "3891e6c3",
   "metadata": {},
   "outputs": [],
   "source": [
    "# Solução do exercício 15\n",
    "def unicos(lista, elem):\n",
    "    \n",
    "    return"
   ]
  },
  {
   "cell_type": "markdown",
   "id": "1d9c2fbc",
   "metadata": {},
   "source": [
    "### Exercício 16: estaOrdenada\n",
    "- Defina uma função que recebe uma lista de números e verifica se a mesma está ordenada por ordem crescente."
   ]
  },
  {
   "cell_type": "code",
   "execution_count": null,
   "id": "fb44546a",
   "metadata": {},
   "outputs": [],
   "source": [
    "# Solução do exercício 16\n",
    "def estaOrdenada(lista):\n",
    "    \n",
    "    return"
   ]
  },
  {
   "cell_type": "markdown",
   "id": "4c48dc90",
   "metadata": {},
   "source": [
    "### Exercício 17: estaOrdenadaCD\n",
    "- Modifique a função do exercício anterior para receber um parâmetro extra, **ordem**, que poderá ter valores \"C\" ou \"D\" e que vai verificar se a lista está ordenada por ordem crescente se **ordem=\"C\"** ou se está ordenada por ordem decrescente se **ordem=\"D\"**."
   ]
  },
  {
   "cell_type": "code",
   "execution_count": null,
   "id": "f4b83960",
   "metadata": {},
   "outputs": [],
   "source": [
    "# Solução do exercício 16\n",
    "def estaOrdenadaCD(lista, ordem):\n",
    "    \n",
    "    return"
   ]
  },
  {
   "cell_type": "markdown",
   "id": "4193a91b",
   "metadata": {},
   "source": [
    "### TPC3: Aplicação para manipulação de listas de inteiros\n",
    "- Crie uma aplicação em Python que coloca no monitor o seguinte menu:\n",
    "    * (1) Criar Lista \n",
    "    * (2) Ler Lista\n",
    "    * (3) Soma\n",
    "    * (4) Média\n",
    "    * (5) Maior\n",
    "    * (6) Menor\n",
    "    * (7) estaOrdenada por ordem crescente\n",
    "    * (8) estaOrdenada por ordem decrescente\n",
    "    * (9) Procura um elemento\n",
    "    * (0) Sair\n",
    "- O utilizador irá escolher uma das opções introduzindo o número correspondente;\n",
    "- Se a opção não for sair, a aplicação executa a operação pretendida, apresenta o resultado e a seguir apresenta de novo o menu;\n",
    "- Se a opção for sair, a aplicação termina colocando uma mensagem no monitor.\n",
    "\n",
    "* No desenvolvimento da aplicação deverá ter em atenção o seguinte:\n",
    "    - A aplicação terá uma variável interna para guardar uma lista de números;\n",
    "    - Na opção 1, deverá ser criada uma lista de números aleatórios entre 1 e 100 que será guardada na variável interna;\n",
    "    - Na opção 2, deverá ser criada uma lista com números introduzidos pelo utilizador, que será guardada na variável interna;\n",
    "    - Nestas primeiras opções, se a variável interna já tiver uma lista, esta será sobreposta/apagada pela nova lista;\n",
    "    - Na opção 3, será calculada a soma dos elementos na lista no momento;\n",
    "    - Na opção 4, será calculada a média dos elementos na lista no momento;\n",
    "    - Na opção 5, será calculado o maior elemento da lista no momento;\n",
    "    - Na opção 6, será calculado o menor elemento da lista no momento;\n",
    "    - Na opção 7, a aplicação deverá indicar (Sim/Não) se a lista está ordenada por ordem crescente;\n",
    "    - Na opção 8, a aplicação deverá indicar (Sim/Não) se a lista está ordenada por ordem decrescente;\n",
    "    - Na opção 9, a aplicação irá procurar um ellmento na lista, se o encontrar deverá devolver a sua posição;\n",
    "    - Se o utilizador selecionar a opção 0, a aplicação deverá terminar mostrando a lista que está nesse momento guardada."
   ]
  },
  {
   "cell_type": "code",
   "execution_count": 64,
   "id": "f3ff9297",
   "metadata": {},
   "outputs": [
    {
     "name": "stdout",
     "output_type": "stream",
     "text": [
      "1, 2, 3, 4, 5, 6, 7, 8, 9, 0\n",
      "qual o tamanho da lista?\n",
      "5\n",
      "[23, 32, 14, 17, 54]\n",
      "1, 2, 3, 4, 5, 6, 7, 8, 9, 0\n",
      "4\n",
      "[1, 2, 3, 4]\n",
      "1, 2, 3, 4, 5, 6, 7, 8, 9, 0\n",
      "10\n",
      "1, 2, 3, 4, 5, 6, 7, 8, 9, 0\n",
      "2.5\n",
      "1, 2, 3, 4, 5, 6, 7, 8, 9, 0\n",
      "4\n",
      "1, 2, 3, 4, 5, 6, 7, 8, 9, 0\n",
      "1\n",
      "1, 2, 3, 4, 5, 6, 7, 8, 9, 0\n",
      "Sim\n",
      "1, 2, 3, 4, 5, 6, 7, 8, 9, 0\n",
      "Não\n",
      "1, 2, 3, 4, 5, 6, 7, 8, 9, 0\n"
     ]
    },
    {
     "ename": "ValueError",
     "evalue": "9 is not in list",
     "output_type": "error",
     "traceback": [
      "\u001b[1;31m---------------------------------------------------------------------------\u001b[0m",
      "\u001b[1;31mValueError\u001b[0m                                Traceback (most recent call last)",
      "Cell \u001b[1;32mIn [64], line 92\u001b[0m\n\u001b[0;32m     90\u001b[0m \u001b[38;5;28;01mif\u001b[39;00m (menu \u001b[38;5;241m==\u001b[39m \u001b[38;5;241m9\u001b[39m):\n\u001b[0;32m     91\u001b[0m     n \u001b[38;5;241m=\u001b[39m \u001b[38;5;28mint\u001b[39m(\u001b[38;5;28minput\u001b[39m(\u001b[38;5;124m\"\u001b[39m\u001b[38;5;124minsira um numero da lista\u001b[39m\u001b[38;5;124m\"\u001b[39m))\n\u001b[1;32m---> 92\u001b[0m     p \u001b[38;5;241m=\u001b[39m listaG\u001b[38;5;241m.\u001b[39mindex(n)\n\u001b[0;32m     93\u001b[0m     \u001b[38;5;28mprint\u001b[39m(p)\n\u001b[0;32m     94\u001b[0m     \u001b[38;5;28mprint\u001b[39m(\u001b[38;5;124m\"\u001b[39m\u001b[38;5;124m1, 2, 3, 4, 5, 6, 7, 8, 9, 0\u001b[39m\u001b[38;5;124m\"\u001b[39m)\n",
      "\u001b[1;31mValueError\u001b[0m: 9 is not in list"
     ]
    }
   ],
   "source": [
    "menu = \"1, 2, 3, 4, 5, 6, 7, 8, 9, 0\"\n",
    "listaG = []\n",
    "import random \n",
    "escolha = True\n",
    "\n",
    "print(menu)\n",
    "while (escolha == True):\n",
    "    menu = int(input([1, 2, 3, 4, 5, 6, 7, 8, 9, 0]))\n",
    "    if (menu == 0):\n",
    "        print(\"Obrigada. Até breve!\")\n",
    "        escolha = False\n",
    "        print(listaG)\n",
    "    \n",
    "    if (menu == 1):\n",
    "        listaG.clear()\n",
    "        print(\"qual o tamanho da lista?\")\n",
    "        N = int(input(\"qual o tamanho da lista?\"))\n",
    "        print(N)\n",
    "        while (N > 0):\n",
    "            N = N - 1\n",
    "            listaG.append(random.randrange(1,101))\n",
    "        print(listaG)\n",
    "        print(\"1, 2, 3, 4, 5, 6, 7, 8, 9, 0\")\n",
    "\n",
    "    if (menu == 2):\n",
    "        listaG.clear()\n",
    "        print(\"qual o tamanho da lista?\")\n",
    "        N = int(input(\"qual o tamanho da lista?\"))\n",
    "        print(N)\n",
    "        while (N > 0):\n",
    "            x = int(input(\"numeros\"))\n",
    "            listaG.append(x)\n",
    "            N = N - 1\n",
    "        print(listaG)\n",
    "        print(\"1, 2, 3, 4, 5, 6, 7, 8, 9, 0\")\n",
    "\n",
    "    if (menu == 3):\n",
    "        def OPCAO3(listaG):\n",
    "            soma = 0\n",
    "            for i in listaG:\n",
    "                soma = soma + i\n",
    "            return soma\n",
    "        print(OPCAO3(listaG))\n",
    "        print(\"1, 2, 3, 4, 5, 6, 7, 8, 9, 0\")\n",
    "\n",
    "    if (menu == 4):\n",
    "        media = OPCAO3(listaG) / len(listaG)\n",
    "        print(media)\n",
    "        print(\"1, 2, 3, 4, 5, 6, 7, 8, 9, 0\") \n",
    "\n",
    "    if (menu == 5):\n",
    "        res = 0\n",
    "        max = listaG[0]\n",
    "        for res in listaG:\n",
    "            if (listaG[0] < res):\n",
    "                max = res\n",
    "        print(max)\n",
    "        print(\"1, 2, 3, 4, 5, 6, 7, 8, 9, 0\")\n",
    "\n",
    "    if (menu == 6):\n",
    "        res = 0\n",
    "        min = listaG[0]\n",
    "        for res in listaG:\n",
    "            if (listaG[0] > res):\n",
    "                min = res\n",
    "        print(min)\n",
    "        print(\"1, 2, 3, 4, 5, 6, 7, 8, 9, 0\")\n",
    "\n",
    "    if (menu == 7):\n",
    "        listacopia = []\n",
    "        for i in listaG:\n",
    "            listacopia.append(i)\n",
    "        listacopia.sort()\n",
    "        if listacopia == listaG:\n",
    "            print(\"Sim\")\n",
    "        else:\n",
    "            print(\"Não\")\n",
    "        print(\"1, 2, 3, 4, 5, 6, 7, 8, 9, 0\")\n",
    "\n",
    "    if (menu == 8):\n",
    "        listacopia2 = []\n",
    "        for i in listaG:\n",
    "            listacopia2.append(i)\n",
    "        listacopia2.sort(reverse = True)\n",
    "        if listacopia2 == listaG:\n",
    "            print(\"Sim\")\n",
    "        else:\n",
    "            print(\"Não\")\n",
    "        print(\"1, 2, 3, 4, 5, 6, 7, 8, 9, 0\")\n",
    "\n",
    "    if (menu == 9):\n",
    "        n = int(input(\"insira um numero da lista\"))\n",
    "        p = listaG.index(n)\n",
    "        print(p)\n",
    "        print(\"1, 2, 3, 4, 5, 6, 7, 8, 9, 0\")\n",
    "\n",
    "\n"
   ]
  },
  {
   "cell_type": "code",
   "execution_count": null,
   "id": "20bea7be",
   "metadata": {},
   "outputs": [],
   "source": []
  }
 ],
 "metadata": {
  "kernelspec": {
   "display_name": "Python 3.10.7 64-bit (microsoft store)",
   "language": "python",
   "name": "python3"
  },
  "language_info": {
   "codemirror_mode": {
    "name": "ipython",
    "version": 3
   },
   "file_extension": ".py",
   "mimetype": "text/x-python",
   "name": "python",
   "nbconvert_exporter": "python",
   "pygments_lexer": "ipython3",
   "version": "3.10.7"
  },
  "vscode": {
   "interpreter": {
    "hash": "d484790e16a633639cb9257906e8545421812034356f62e95baa8c5c6f2b9b37"
   }
  }
 },
 "nbformat": 4,
 "nbformat_minor": 5
}
