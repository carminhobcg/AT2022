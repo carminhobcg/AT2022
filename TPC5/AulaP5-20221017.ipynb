{
 "cells": [
  {
   "cell_type": "markdown",
   "id": "1e545158",
   "metadata": {},
   "source": [
    "# Aula Prática 5 (guião)\n",
    "### Semana de 17 a 21 de Outubro de 2022\n",
    "### José Carlos Ramalho e Luís Cunha\n",
    "### Sinopsis:\n",
    "Algoritmos e modelação de problemas com armazenamento em memória secundária."
   ]
  },
  {
   "cell_type": "markdown",
   "id": "1d9c2fbc",
   "metadata": {},
   "source": [
    "### Exercício 1: Polinómios\n",
    "\n",
    "Neste exercício, desenvolva as seguintes alíneas:"
   ]
  },
  {
   "cell_type": "markdown",
   "id": "8ef1ac42",
   "metadata": {},
   "source": [
    "#### a) Pense num modelo para polinómios e instancia os seguintes exemplos:\n",
    "\n",
    "* `x`\n",
    "* `2x + 1`\n",
    "* `7x^5 + 6x^3 - 2x^2 + 27`"
   ]
  },
  {
   "cell_type": "code",
   "execution_count": 4,
   "id": "854085f7",
   "metadata": {},
   "outputs": [],
   "source": [
    "# Solução de 1.a)\n",
    "polinomio1 = [(1, 1)]\n",
    "polinomio2 = [(2,1), (1,0)]\n",
    "polinomio3 = [(7, 5), (6, 3), (-2, 2), (27,0)]"
   ]
  },
  {
   "cell_type": "markdown",
   "id": "fdc3ff66",
   "metadata": {},
   "source": [
    "#### b) Defina uma função, ou funções, que pede ao utilizador a informação necessária para criar um polinómio, cria esse polinómio e devolve-o como resultado"
   ]
  },
  {
   "cell_type": "code",
   "execution_count": 4,
   "id": "fb44546a",
   "metadata": {},
   "outputs": [
    {
     "name": "stdout",
     "output_type": "stream",
     "text": [
      "[(3, 3), (2, 2), (1, 1)]\n"
     ]
    }
   ],
   "source": [
    "# Solução de 1.b)\n",
    "def criaPolIn():\n",
    "    grau = int(input(\"introduza o grau do polinomio\"))\n",
    "    lista = []\n",
    "    while grau >= 0:\n",
    "        coef = int(input(\"introduza o coeficiente correspondente ao grau:\" + str(grau)))\n",
    "        if coef != 0:\n",
    "            monomio = (coef, grau)\n",
    "            lista.append(monomio)\n",
    "        grau = grau - 1\n",
    "    return lista\n",
    "\n",
    "print(criaPolIn())"
   ]
  },
  {
   "cell_type": "markdown",
   "id": "9d3475e4",
   "metadata": {},
   "source": [
    "#### c) Defina uma função que calcula o valor do polinómio dado um valor de `x`"
   ]
  },
  {
   "cell_type": "code",
   "execution_count": 6,
   "id": "c4c8dc32",
   "metadata": {},
   "outputs": [
    {
     "data": {
      "text/plain": [
       "15"
      ]
     },
     "execution_count": 6,
     "metadata": {},
     "output_type": "execute_result"
    }
   ],
   "source": [
    "# Solução de 1.c)\n",
    "def pot(b, e):\n",
    "    res = 1\n",
    "    while e > 0:\n",
    "        res = b*res\n",
    "        e = e - 1\n",
    "    return res\n",
    "    \n",
    "def calcPolinomio(p, x):\n",
    "    res = 0\n",
    "    for termo in p:\n",
    "        coef, grau = termo\n",
    "        res = res + coef*pot(x, grau)\n",
    "    return res\n",
    "calcPolinomio(polinomio2, 7)"
   ]
  },
  {
   "cell_type": "markdown",
   "id": "5fa6de75",
   "metadata": {},
   "source": [
    "#### d) Defina uma função que imprima no monitor o polinómio"
   ]
  },
  {
   "cell_type": "code",
   "execution_count": 5,
   "id": "b0716c72",
   "metadata": {},
   "outputs": [
    {
     "name": "stdout",
     "output_type": "stream",
     "text": [
      " + 7x^5 + 6x^3 + -2x^2 + 27None\n"
     ]
    }
   ],
   "source": [
    "# Solução de 1.d)\n",
    "def verPolinomio(p):\n",
    "    for termo in p:\n",
    "        coef, grau = termo \n",
    "        if grau > 0:\n",
    "            print(\" + \", coef ,\"x^\", grau, sep=\"\", end=\"\")\n",
    "        else:\n",
    "            print(\" + \", coef , sep=\"\", end=\"\")\n",
    "    return\n",
    "print(verPolinomio(polinomio3))"
   ]
  },
  {
   "cell_type": "markdown",
   "id": "beb31acc",
   "metadata": {},
   "source": [
    "#### e) Defina uma função que calcula o grau de um polinómio dado"
   ]
  },
  {
   "cell_type": "code",
   "execution_count": null,
   "id": "09816d6e",
   "metadata": {},
   "outputs": [],
   "source": [
    "# Solução de 1.e)\n",
    "def grauPolinomio(p):\n",
    "\n",
    "    return"
   ]
  },
  {
   "cell_type": "markdown",
   "id": "0cfe33d8",
   "metadata": {},
   "source": [
    "#### f) Defina uma função que imprime no monitor uma tabela com n linhas: x | p(x)"
   ]
  },
  {
   "cell_type": "code",
   "execution_count": 7,
   "id": "3619f63c",
   "metadata": {},
   "outputs": [
    {
     "name": "stdout",
     "output_type": "stream",
     "text": [
      "0 | 27\n",
      "1 | 38\n",
      "2 | 291\n",
      "3 | 1872\n",
      "4 | 7547\n",
      "5 | 22602\n",
      "6 | 55683\n",
      "7 | 119636\n",
      "8 | 232347\n",
      "9 | 417582\n"
     ]
    }
   ],
   "source": [
    "# Solução de 1.f)\n",
    "def tabela(p, linhas):\n",
    "    for i in range(linhas):\n",
    "        print(i, \"|\", calcPolinomio(p,i))\n",
    "    return\n",
    "tabela(polinomio3, 10)"
   ]
  },
  {
   "cell_type": "markdown",
   "id": "df16478c",
   "metadata": {},
   "source": [
    "#### g) Define uma função que dado um polinómio calcula a sua derivada"
   ]
  },
  {
   "cell_type": "code",
   "execution_count": null,
   "id": "6bd99681",
   "metadata": {},
   "outputs": [],
   "source": [
    "# Solução de 1.g)\n",
    "def derivarPolinomio(p):\n",
    "\n",
    "    return"
   ]
  },
  {
   "cell_type": "markdown",
   "id": "a582ac17",
   "metadata": {},
   "source": [
    "#### h) Defina uma função para guardar um polinómio num ficheiro"
   ]
  },
  {
   "cell_type": "code",
   "execution_count": 9,
   "id": "2b3f58dd",
   "metadata": {},
   "outputs": [],
   "source": [
    "# Solução de 1.h)\n",
    "def guardarPolinomio(listap, fnome):\n",
    "    file = open(fnome, \"w\")\n",
    "    for p in listap:\n",
    "        for termo in p:\n",
    "            coef, grau = termo \n",
    "            file.write(str(coef) + \"#\" + str(grau) + \";\")\n",
    "    file.write(\"\\n\")\n",
    "    return\n",
    "guardarPolinomio([polinomio1, polinomio2, polinomio3], \"polinomio_2\")"
   ]
  },
  {
   "cell_type": "markdown",
   "id": "7f7d1410",
   "metadata": {},
   "source": [
    "#### i) Defina uma função para recuperar um polinómio dum ficheiro"
   ]
  },
  {
   "cell_type": "code",
   "execution_count": 8,
   "id": "72081c41",
   "metadata": {},
   "outputs": [
    {
     "ename": "TypeError",
     "evalue": "object of type 'bool' has no len()",
     "output_type": "error",
     "traceback": [
      "\u001b[1;31m---------------------------------------------------------------------------\u001b[0m",
      "\u001b[1;31mTypeError\u001b[0m                                 Traceback (most recent call last)",
      "Cell \u001b[1;32mIn [8], line 21\u001b[0m\n\u001b[0;32m     19\u001b[0m         grandeLista\u001b[39m.\u001b[39mappend(polinomios)\n\u001b[0;32m     20\u001b[0m     \u001b[39mreturn\u001b[39;00m grandeLista\n\u001b[1;32m---> 21\u001b[0m listaPol2 \u001b[39m=\u001b[39m recuperarPolinomio(\u001b[39m\"\u001b[39m\u001b[39mpolinomios_2\u001b[39m\u001b[39m\"\u001b[39m)\n\u001b[0;32m     22\u001b[0m \u001b[39mprint\u001b[39m(listaPol2)\n",
      "Cell \u001b[1;32mIn [8], line 13\u001b[0m, in \u001b[0;36mrecuperarPolinomio\u001b[1;34m(fnome)\u001b[0m\n\u001b[0;32m     10\u001b[0m \u001b[39mfor\u001b[39;00m t \u001b[39min\u001b[39;00m termos:\n\u001b[0;32m     11\u001b[0m     elems \u001b[39m=\u001b[39m t\u001b[39m.\u001b[39msplit(\u001b[39m\"\u001b[39m\u001b[39m#\u001b[39m\u001b[39m\"\u001b[39m)\n\u001b[1;32m---> 13\u001b[0m     \u001b[39mif\u001b[39;00m \u001b[39mlen\u001b[39;49m(elems \u001b[39m==\u001b[39;49m \u001b[39m2\u001b[39;49m):\n\u001b[0;32m     14\u001b[0m         coef \u001b[39m=\u001b[39m elems[\u001b[39m0\u001b[39m]\n\u001b[0;32m     15\u001b[0m         grau \u001b[39m=\u001b[39m elems[\u001b[39m1\u001b[39m]\n",
      "\u001b[1;31mTypeError\u001b[0m: object of type 'bool' has no len()"
     ]
    }
   ],
   "source": [
    "# Solução de 1.i)\n",
    "def recuperarPolinomio(fnome):\n",
    "    file2 = open(fnome, \"r\")\n",
    "    grandeLista = []\n",
    "    \n",
    "    for linha in file2:\n",
    "        polinomios = []\n",
    "        termos = linha.split(\";\")\n",
    "\n",
    "        for t in termos:\n",
    "            elems = t.split(\"#\")\n",
    "\n",
    "            if len(elems == 2):\n",
    "                coef = elems[0]\n",
    "                grau = elems[1]\n",
    "                termo = (coef, grau)\n",
    "                polinomios.append(termo)\n",
    "\n",
    "        grandeLista.append(polinomios)\n",
    "    return grandeLista\n",
    "listaPol2 = recuperarPolinomio(\"polinomios_2\")\n",
    "print(listaPol2)"
   ]
  },
  {
   "cell_type": "markdown",
   "id": "fed2fbc4",
   "metadata": {},
   "source": [
    "#### j) Baseando-se nas funções até agora criadas, crie novas funções para manipular listas de polinómios: criar, ver, guardar e recuperar"
   ]
  },
  {
   "cell_type": "code",
   "execution_count": null,
   "id": "986c8587",
   "metadata": {},
   "outputs": [],
   "source": [
    "# Solução de 1.j)\n",
    "# ..."
   ]
  },
  {
   "cell_type": "markdown",
   "id": "6bea73df",
   "metadata": {},
   "source": [
    "#### k) Junte todas as funções num módulo, `polinomios.py`, e usa-o num pequeno programa exemplo"
   ]
  },
  {
   "cell_type": "code",
   "execution_count": null,
   "id": "82a2401b",
   "metadata": {},
   "outputs": [],
   "source": [
    "# Solução de 1.k)"
   ]
  },
  {
   "cell_type": "markdown",
   "id": "4193a91b",
   "metadata": {},
   "source": [
    "### TPC5: Análise de dados: doença cardíaca\n",
    "\n",
    "Descarregue o ficheiro de dados: `myheart.csv`\n",
    "Crie um programa em Python, conjunto de funções, que responda às seguintes questões:\n",
    "* Crie uma função que lê a informação do ficheiro para um modelo, previamente pensado em memória;\n",
    "* Crie uma função que calcula a distribuição da doença por sexo;\n",
    "* Crie uma função que calcula a distribuição da doença por escalões etários. Considere os seguintes escalões: [30-34], [35-39], [40-44], ...\n",
    "* Crie uma função que calcula a distribuição da doença por níveis de colesterol. Considere um nível igual a um intervalo de 10 unidades, comece no limite inferior e crie os níveis necessários até abranger o limite superior;\n",
    "* Crie uma função que imprime na forma de uma tabela uma distribuição;\n",
    "* Especifique um programa que ao executar apresenta as tabelas correspondentes às distribuições pedidas."
   ]
  },
  {
   "cell_type": "code",
   "execution_count": 2,
   "id": "2abe3001",
   "metadata": {},
   "outputs": [
    {
     "data": {
      "text/html": [
       "<div>\n",
       "<style scoped>\n",
       "    .dataframe tbody tr th:only-of-type {\n",
       "        vertical-align: middle;\n",
       "    }\n",
       "\n",
       "    .dataframe tbody tr th {\n",
       "        vertical-align: top;\n",
       "    }\n",
       "\n",
       "    .dataframe thead th {\n",
       "        text-align: right;\n",
       "    }\n",
       "</style>\n",
       "<table border=\"1\" class=\"dataframe\">\n",
       "  <thead>\n",
       "    <tr style=\"text-align: right;\">\n",
       "      <th></th>\n",
       "      <th>idade</th>\n",
       "      <th>sexo</th>\n",
       "      <th>tensão</th>\n",
       "      <th>colesterol</th>\n",
       "      <th>batimento</th>\n",
       "      <th>temDoença</th>\n",
       "    </tr>\n",
       "  </thead>\n",
       "  <tbody>\n",
       "    <tr>\n",
       "      <th>0</th>\n",
       "      <td>40</td>\n",
       "      <td>M</td>\n",
       "      <td>140</td>\n",
       "      <td>289</td>\n",
       "      <td>172</td>\n",
       "      <td>0</td>\n",
       "    </tr>\n",
       "    <tr>\n",
       "      <th>1</th>\n",
       "      <td>49</td>\n",
       "      <td>F</td>\n",
       "      <td>160</td>\n",
       "      <td>180</td>\n",
       "      <td>156</td>\n",
       "      <td>1</td>\n",
       "    </tr>\n",
       "    <tr>\n",
       "      <th>2</th>\n",
       "      <td>37</td>\n",
       "      <td>M</td>\n",
       "      <td>130</td>\n",
       "      <td>283</td>\n",
       "      <td>98</td>\n",
       "      <td>0</td>\n",
       "    </tr>\n",
       "    <tr>\n",
       "      <th>3</th>\n",
       "      <td>48</td>\n",
       "      <td>F</td>\n",
       "      <td>138</td>\n",
       "      <td>214</td>\n",
       "      <td>108</td>\n",
       "      <td>1</td>\n",
       "    </tr>\n",
       "    <tr>\n",
       "      <th>4</th>\n",
       "      <td>54</td>\n",
       "      <td>M</td>\n",
       "      <td>150</td>\n",
       "      <td>195</td>\n",
       "      <td>122</td>\n",
       "      <td>0</td>\n",
       "    </tr>\n",
       "    <tr>\n",
       "      <th>...</th>\n",
       "      <td>...</td>\n",
       "      <td>...</td>\n",
       "      <td>...</td>\n",
       "      <td>...</td>\n",
       "      <td>...</td>\n",
       "      <td>...</td>\n",
       "    </tr>\n",
       "    <tr>\n",
       "      <th>834</th>\n",
       "      <td>44</td>\n",
       "      <td>M</td>\n",
       "      <td>120</td>\n",
       "      <td>220</td>\n",
       "      <td>170</td>\n",
       "      <td>0</td>\n",
       "    </tr>\n",
       "    <tr>\n",
       "      <th>835</th>\n",
       "      <td>54</td>\n",
       "      <td>M</td>\n",
       "      <td>110</td>\n",
       "      <td>239</td>\n",
       "      <td>126</td>\n",
       "      <td>1</td>\n",
       "    </tr>\n",
       "    <tr>\n",
       "      <th>836</th>\n",
       "      <td>65</td>\n",
       "      <td>M</td>\n",
       "      <td>135</td>\n",
       "      <td>254</td>\n",
       "      <td>127</td>\n",
       "      <td>1</td>\n",
       "    </tr>\n",
       "    <tr>\n",
       "      <th>837</th>\n",
       "      <td>57</td>\n",
       "      <td>M</td>\n",
       "      <td>150</td>\n",
       "      <td>168</td>\n",
       "      <td>174</td>\n",
       "      <td>0</td>\n",
       "    </tr>\n",
       "    <tr>\n",
       "      <th>838</th>\n",
       "      <td>63</td>\n",
       "      <td>M</td>\n",
       "      <td>130</td>\n",
       "      <td>330</td>\n",
       "      <td>132</td>\n",
       "      <td>1</td>\n",
       "    </tr>\n",
       "  </tbody>\n",
       "</table>\n",
       "<p>839 rows × 6 columns</p>\n",
       "</div>"
      ],
      "text/plain": [
       "     idade sexo  tensão  colesterol  batimento  temDoença\n",
       "0       40    M     140         289        172          0\n",
       "1       49    F     160         180        156          1\n",
       "2       37    M     130         283         98          0\n",
       "3       48    F     138         214        108          1\n",
       "4       54    M     150         195        122          0\n",
       "..     ...  ...     ...         ...        ...        ...\n",
       "834     44    M     120         220        170          0\n",
       "835     54    M     110         239        126          1\n",
       "836     65    M     135         254        127          1\n",
       "837     57    M     150         168        174          0\n",
       "838     63    M     130         330        132          1\n",
       "\n",
       "[839 rows x 6 columns]"
      ]
     },
     "metadata": {},
     "output_type": "display_data"
    }
   ],
   "source": [
    "#pode se utilizar os pandas para visualizarmos as tabelas da informação\n",
    "import pandas as pd\n",
    "import csv\n",
    "tabela = pd.read_csv(\"myheart.csv\")\n",
    "display(tabela)"
   ]
  }
 ],
 "metadata": {
  "kernelspec": {
   "display_name": "Python 3.10.8 64-bit (microsoft store)",
   "language": "python",
   "name": "python3"
  },
  "language_info": {
   "codemirror_mode": {
    "name": "ipython",
    "version": 3
   },
   "file_extension": ".py",
   "mimetype": "text/x-python",
   "name": "python",
   "nbconvert_exporter": "python",
   "pygments_lexer": "ipython3",
   "version": "3.10.8"
  },
  "vscode": {
   "interpreter": {
    "hash": "d484790e16a633639cb9257906e8545421812034356f62e95baa8c5c6f2b9b37"
   }
  }
 },
 "nbformat": 4,
 "nbformat_minor": 5
}
